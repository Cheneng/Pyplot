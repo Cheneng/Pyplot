{
 "cells": [
  {
   "cell_type": "code",
   "execution_count": 352,
   "metadata": {
    "collapsed": false
   },
   "outputs": [],
   "source": [
    "import matplotlib.pyplot as plt\n",
    "import numpy as np"
   ]
  },
  {
   "cell_type": "code",
   "execution_count": 353,
   "metadata": {
    "collapsed": false
   },
   "outputs": [],
   "source": [
    "x = np.linspace(-1, 1, 500)"
   ]
  },
  {
   "cell_type": "code",
   "execution_count": 354,
   "metadata": {
    "collapsed": true
   },
   "outputs": [],
   "source": [
    "y1 = 2 * x + 1"
   ]
  },
  {
   "cell_type": "code",
   "execution_count": 355,
   "metadata": {
    "collapsed": true
   },
   "outputs": [],
   "source": [
    "y2 = x ** 2"
   ]
  },
  {
   "cell_type": "code",
   "execution_count": 356,
   "metadata": {
    "collapsed": false
   },
   "outputs": [
    {
     "data": {
      "text/plain": [
       "<matplotlib.figure.Figure at 0x1089ebba8>"
      ]
     },
     "execution_count": 356,
     "metadata": {},
     "output_type": "execute_result"
    }
   ],
   "source": [
    "plt.figure()"
   ]
  },
  {
   "cell_type": "code",
   "execution_count": 357,
   "metadata": {
    "collapsed": false
   },
   "outputs": [],
   "source": [
    "l1, = plt.plot(x, y2, label='up')"
   ]
  },
  {
   "cell_type": "code",
   "execution_count": 358,
   "metadata": {
    "collapsed": false
   },
   "outputs": [],
   "source": [
    "l2, = plt.plot(x , y1, color='red', linewidth=1.0, linestyle='--', label='down')"
   ]
  },
  {
   "cell_type": "code",
   "execution_count": 359,
   "metadata": {
    "collapsed": false
   },
   "outputs": [
    {
     "data": {
      "text/plain": [
       "(-1, 1)"
      ]
     },
     "execution_count": 359,
     "metadata": {},
     "output_type": "execute_result"
    }
   ],
   "source": [
    "plt.xlim([-1, 1])"
   ]
  },
  {
   "cell_type": "code",
   "execution_count": 360,
   "metadata": {
    "collapsed": false
   },
   "outputs": [
    {
     "data": {
      "text/plain": [
       "(-2.25, 3.25)"
      ]
     },
     "execution_count": 360,
     "metadata": {},
     "output_type": "execute_result"
    }
   ],
   "source": [
    "# 设定图片中x的取值范围为-1~2，y轴的取值范围为-2~3\n",
    "plt.ylim([-2.25, 3.25])"
   ]
  },
  {
   "cell_type": "code",
   "execution_count": 361,
   "metadata": {
    "collapsed": false
   },
   "outputs": [
    {
     "data": {
      "text/plain": [
       "<matplotlib.text.Text at 0x1085bf400>"
      ]
     },
     "execution_count": 361,
     "metadata": {},
     "output_type": "execute_result"
    }
   ],
   "source": [
    "# 设定x轴和y轴的名字\n",
    "plt.xlabel('I am x')\n",
    "plt.ylabel('I am y')"
   ]
  },
  {
   "cell_type": "code",
   "execution_count": 362,
   "metadata": {
    "collapsed": true
   },
   "outputs": [],
   "source": [
    "new_ticks = np.linspace(-1, 1, 10)"
   ]
  },
  {
   "cell_type": "code",
   "execution_count": 363,
   "metadata": {
    "collapsed": false
   },
   "outputs": [
    {
     "name": "stdout",
     "output_type": "stream",
     "text": [
      "[-1.         -0.77777778 -0.55555556 -0.33333333 -0.11111111  0.11111111\n",
      "  0.33333333  0.55555556  0.77777778  1.        ]\n"
     ]
    }
   ],
   "source": [
    "print(new_ticks)"
   ]
  },
  {
   "cell_type": "code",
   "execution_count": 364,
   "metadata": {
    "collapsed": false
   },
   "outputs": [
    {
     "data": {
      "text/plain": [
       "([<matplotlib.axis.XTick at 0x108a8e4a8>,\n",
       "  <matplotlib.axis.XTick at 0x108596c50>,\n",
       "  <matplotlib.axis.XTick at 0x108588a20>,\n",
       "  <matplotlib.axis.XTick at 0x10846db38>,\n",
       "  <matplotlib.axis.XTick at 0x10845a908>,\n",
       "  <matplotlib.axis.XTick at 0x108446e48>,\n",
       "  <matplotlib.axis.XTick at 0x10843d400>,\n",
       "  <matplotlib.axis.XTick at 0x108455c50>,\n",
       "  <matplotlib.axis.XTick at 0x10841d898>,\n",
       "  <matplotlib.axis.XTick at 0x108352cc0>],\n",
       " <a list of 10 Text xticklabel objects>)"
      ]
     },
     "execution_count": 364,
     "metadata": {},
     "output_type": "execute_result"
    }
   ],
   "source": [
    "# 将x的数字用新的ticks来代替\n",
    "plt.xticks(new_ticks)"
   ]
  },
  {
   "cell_type": "code",
   "execution_count": 365,
   "metadata": {
    "collapsed": false
   },
   "outputs": [
    {
     "data": {
      "text/plain": [
       "([<matplotlib.axis.YTick at 0x1085b8f98>,\n",
       "  <matplotlib.axis.YTick at 0x1084347f0>,\n",
       "  <matplotlib.axis.YTick at 0x1085a2eb8>,\n",
       "  <matplotlib.axis.YTick at 0x10846de48>,\n",
       "  <matplotlib.axis.YTick at 0x1083310f0>],\n",
       " <a list of 5 Text yticklabel objects>)"
      ]
     },
     "execution_count": 365,
     "metadata": {},
     "output_type": "execute_result"
    }
   ],
   "source": [
    "# 使用文字来代替y坐标轴中的一些特定数字的位置，\n",
    "# 这里参数使用两个列表来进行一一对应\n",
    "# 这里字体使用了特殊的表达，能够让字体更好看一点\n",
    "plt.yticks([-2, -1.8, -1, 1.22, 3],\n",
    "           [r'$really\\ bad$', r'$bad$', r'$normal$', r'$good$', r'$really\\ good$'])"
   ]
  },
  {
   "cell_type": "code",
   "execution_count": 366,
   "metadata": {
    "collapsed": false
   },
   "outputs": [],
   "source": [
    "# gca = 'get current axis'\n",
    "# 获取当前坐标轴\n",
    "ax = plt.gca()\n",
    "#将右边跟上班的黑色轴的颜色都去掉\n",
    "ax.spines['right'].set_color('none')\n",
    "ax.spines['top'].set_color('none')"
   ]
  },
  {
   "cell_type": "code",
   "execution_count": 367,
   "metadata": {
    "collapsed": false
   },
   "outputs": [],
   "source": [
    "# 使用下面的坐标轴来代替x轴\n",
    "ax.xaxis.set_ticks_position('bottom')\n",
    "# 使用左边的坐标轴来代替y轴\n",
    "ax.yaxis.set_ticks_position('left')"
   ]
  },
  {
   "cell_type": "code",
   "execution_count": 368,
   "metadata": {
    "collapsed": true
   },
   "outputs": [],
   "source": [
    "# 设置x轴的位置和y轴的位置\n",
    "# x轴的位置为y轴的data为0的位置\n",
    "# y轴的位置为x轴的data为0时候的位置\n",
    "ax.spines['bottom'].set_position(('data', 0))\n",
    "ax.spines['left'].set_position(('data', 0))"
   ]
  },
  {
   "cell_type": "code",
   "execution_count": 369,
   "metadata": {
    "collapsed": false
   },
   "outputs": [
    {
     "data": {
      "text/plain": [
       "<matplotlib.legend.Legend at 0x1089eb7f0>"
      ]
     },
     "execution_count": 369,
     "metadata": {},
     "output_type": "execute_result"
    }
   ],
   "source": [
    "# 在plot中设定参数label=‘XXXX’\n",
    "# 但是还不够，还需要使用\n",
    "# legend（）来进行输出显示\n",
    "plt.legend(handles=[l2, l1], labels=['China', 'USA'], loc='best')\n",
    "# 多参数情况\n",
    "# plt.legend(handles=, labels=, loc='best')\n",
    "# 1. loc参数表示放置的位置，有如’upper left‘，‘lower left’等参数，这里使用了best\n",
    "#    则它会随着拖拽动态自动放置到很少图画的地方即最佳的地方中去\n",
    "# 2. 这里的labels设置的是对应的名字\n",
    "# 3. handle中放置的是对应图的代表（使用plot的返回值放进去,注意返回值要加逗号,）\n",
    "#    如果只是想要一个图例那就只handle一个即可"
   ]
  },
  {
   "cell_type": "code",
   "execution_count": 370,
   "metadata": {
    "collapsed": false,
    "scrolled": true
   },
   "outputs": [
    {
     "data": {
      "image/png": "[encoded data removed]",
      "text/plain": [
       "<matplotlib.figure.Figure at 0x1089ebba8>"
      ]
     },
     "metadata": {},
     "output_type": "display_data"
    }
   ],
   "source": [
    "plt.show()"
   ]
  },
  {
   "cell_type": "code",
   "execution_count": null,
   "metadata": {
    "collapsed": true
   },
   "outputs": [],
   "source": []
  }
 ],
 "metadata": {
  "kernelspec": {
   "display_name": "Python 3",
   "language": "python",
   "name": "python3"
  },
  "language_info": {
   "codemirror_mode": {
    "name": "ipython",
    "version": 3
   },
   "file_extension": ".py",
   "mimetype": "text/x-python",
   "name": "python",
   "nbconvert_exporter": "python",
   "pygments_lexer": "ipython3",
   "version": "3.6.1"
  }
 },
 "nbformat": 4,
 "nbformat_minor": 2
}
